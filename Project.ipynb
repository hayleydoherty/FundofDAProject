{
 "cells": [
  {
   "cell_type": "markdown",
   "metadata": {},
   "source": [
    "## Fundamentals of Data Analysis Project\n",
    "#### Hayley Doherty G00387849\n",
    "---"
   ]
  },
  {
   "cell_type": "markdown",
   "metadata": {},
   "source": [
    "The aim of this project is to perform linear regression on a given dataset such that it will allow the accurate prediction of power output from wind speed values.  Linear regression is a method used to model the relatioship between a response and one or more explanatory variables [1].  If two variables are related, this means that when one changes by a certain amount, the other also changes by a certain amount.  When written in terms of x and y, with y being the response variable, this relationship is described as the regression of y on x.  In this context, the term regression measn that y is a function of x and changes with x [2].  "
   ]
  },
  {
   "cell_type": "code",
   "execution_count": 37,
   "metadata": {},
   "outputs": [],
   "source": [
    "import numpy as np\n",
    "import pandas as pd\n",
    "import matplotlib.pyplot as plt\n",
    "from numpy.random import default_rng\n",
    "rng = default_rng()\n",
    "import sklearn.linear_model as lm"
   ]
  },
  {
   "cell_type": "code",
   "execution_count": 6,
   "metadata": {},
   "outputs": [
    {
     "data": {
      "text/html": [
       "<div>\n",
       "<style scoped>\n",
       "    .dataframe tbody tr th:only-of-type {\n",
       "        vertical-align: middle;\n",
       "    }\n",
       "\n",
       "    .dataframe tbody tr th {\n",
       "        vertical-align: top;\n",
       "    }\n",
       "\n",
       "    .dataframe thead th {\n",
       "        text-align: right;\n",
       "    }\n",
       "</style>\n",
       "<table border=\"1\" class=\"dataframe\">\n",
       "  <thead>\n",
       "    <tr style=\"text-align: right;\">\n",
       "      <th></th>\n",
       "      <th>speed</th>\n",
       "      <th>power</th>\n",
       "    </tr>\n",
       "  </thead>\n",
       "  <tbody>\n",
       "    <tr>\n",
       "      <td>0</td>\n",
       "      <td>0.000</td>\n",
       "      <td>0.0</td>\n",
       "    </tr>\n",
       "    <tr>\n",
       "      <td>1</td>\n",
       "      <td>0.125</td>\n",
       "      <td>0.0</td>\n",
       "    </tr>\n",
       "    <tr>\n",
       "      <td>2</td>\n",
       "      <td>0.150</td>\n",
       "      <td>0.0</td>\n",
       "    </tr>\n",
       "    <tr>\n",
       "      <td>3</td>\n",
       "      <td>0.225</td>\n",
       "      <td>0.0</td>\n",
       "    </tr>\n",
       "    <tr>\n",
       "      <td>4</td>\n",
       "      <td>0.275</td>\n",
       "      <td>0.0</td>\n",
       "    </tr>\n",
       "    <tr>\n",
       "      <td>...</td>\n",
       "      <td>...</td>\n",
       "      <td>...</td>\n",
       "    </tr>\n",
       "    <tr>\n",
       "      <td>495</td>\n",
       "      <td>24.775</td>\n",
       "      <td>0.0</td>\n",
       "    </tr>\n",
       "    <tr>\n",
       "      <td>496</td>\n",
       "      <td>24.850</td>\n",
       "      <td>0.0</td>\n",
       "    </tr>\n",
       "    <tr>\n",
       "      <td>497</td>\n",
       "      <td>24.875</td>\n",
       "      <td>0.0</td>\n",
       "    </tr>\n",
       "    <tr>\n",
       "      <td>498</td>\n",
       "      <td>24.950</td>\n",
       "      <td>0.0</td>\n",
       "    </tr>\n",
       "    <tr>\n",
       "      <td>499</td>\n",
       "      <td>25.000</td>\n",
       "      <td>0.0</td>\n",
       "    </tr>\n",
       "  </tbody>\n",
       "</table>\n",
       "<p>500 rows × 2 columns</p>\n",
       "</div>"
      ],
      "text/plain": [
       "      speed  power\n",
       "0     0.000    0.0\n",
       "1     0.125    0.0\n",
       "2     0.150    0.0\n",
       "3     0.225    0.0\n",
       "4     0.275    0.0\n",
       "..      ...    ...\n",
       "495  24.775    0.0\n",
       "496  24.850    0.0\n",
       "497  24.875    0.0\n",
       "498  24.950    0.0\n",
       "499  25.000    0.0\n",
       "\n",
       "[500 rows x 2 columns]"
      ]
     },
     "execution_count": 6,
     "metadata": {},
     "output_type": "execute_result"
    }
   ],
   "source": [
    "df = pd.read_csv('powerproduction.csv')\n",
    "df"
   ]
  },
  {
   "cell_type": "code",
   "execution_count": 38,
   "metadata": {
    "scrolled": true
   },
   "outputs": [
    {
     "data": {
      "text/plain": [
       "array([ 0.   ,  0.125,  0.15 ,  0.225,  0.275,  0.325,  0.4  ,  0.45 ,\n",
       "        0.501,  0.526,  0.551,  0.576,  0.626,  0.676,  0.701,  0.726,\n",
       "        0.751,  0.801,  0.826,  0.851,  0.926,  0.951,  0.976,  1.001,\n",
       "        1.026,  1.051,  1.076,  1.101,  1.151,  1.251,  1.276,  1.301,\n",
       "        1.401,  1.426,  1.502,  1.552,  1.652,  1.677,  1.702,  1.827,\n",
       "        1.877,  1.902,  2.027,  2.077,  2.102,  2.177,  2.227,  2.252,\n",
       "        2.402,  2.477,  2.553,  2.578,  2.703,  2.828,  2.853,  2.953,\n",
       "        3.003,  3.028,  3.053,  3.078,  3.128,  3.203,  3.378,  3.403,\n",
       "        3.428,  3.504,  3.529,  3.579,  3.604,  3.629,  3.679,  3.704,\n",
       "        3.729,  3.779,  3.804,  3.879,  3.904,  3.929,  3.954,  3.979,\n",
       "        4.179,  4.304,  4.329,  4.429,  4.53 ,  4.555,  4.605,  4.73 ,\n",
       "        4.78 ,  4.88 ,  4.905,  4.93 ,  4.955,  4.98 ,  5.03 ,  5.08 ,\n",
       "        5.13 ,  5.18 ,  5.205,  5.255,  5.28 ,  5.305,  5.43 ,  5.455,\n",
       "        5.506,  5.556,  5.631,  5.681,  5.706,  5.731,  5.781,  5.806,\n",
       "        5.831,  5.906,  5.931,  5.956,  5.981,  6.006,  6.031,  6.081,\n",
       "        6.106,  6.131,  6.156,  6.181,  6.231,  6.356,  6.406,  6.456,\n",
       "        6.481,  6.607,  6.682,  6.732,  6.757,  6.782,  6.832,  6.857,\n",
       "        6.957,  6.982,  7.057,  7.082,  7.107,  7.157,  7.182,  7.207,\n",
       "        7.232,  7.257,  7.307,  7.382,  7.407,  7.432,  7.508,  7.558,\n",
       "        7.608,  7.633,  7.683,  7.708,  7.733,  7.808,  7.833,  7.858,\n",
       "        7.883,  7.908,  7.933,  8.033,  8.083,  8.133,  8.183,  8.208,\n",
       "        8.308,  8.408,  8.458,  8.534,  8.634,  8.659,  8.684,  8.759,\n",
       "        8.834,  8.859,  8.884,  8.959,  9.209,  9.259,  9.309,  9.434,\n",
       "        9.535,  9.56 ,  9.61 ,  9.735,  9.81 ,  9.835,  9.86 ,  9.885,\n",
       "        9.935,  9.96 ,  9.985, 10.035, 10.085, 10.11 , 10.135, 10.16 ,\n",
       "       10.185, 10.21 , 10.235, 10.26 , 10.285, 10.36 , 10.385, 10.485,\n",
       "       10.511, 10.561, 10.661, 10.711, 10.736, 10.761, 10.886, 10.961,\n",
       "       10.986, 11.011, 11.036, 11.111, 11.161, 11.211, 11.286, 11.311,\n",
       "       11.336, 11.361, 11.386, 11.612, 11.662, 11.687, 11.737, 11.787,\n",
       "       11.812, 11.862, 11.937, 11.962, 11.987, 12.037, 12.162, 12.187,\n",
       "       12.212, 12.262, 12.287, 12.337, 12.362, 12.387, 12.412, 12.462,\n",
       "       12.487, 12.538, 12.563, 12.588, 12.613, 12.663, 12.713, 12.738,\n",
       "       12.788, 12.863, 12.888, 12.963, 12.988, 13.038, 13.263, 13.313,\n",
       "       13.338, 13.388, 13.438, 13.539, 13.564, 13.714, 13.739, 13.939,\n",
       "       13.964, 13.989, 14.014, 14.039, 14.139, 14.189, 14.264, 14.289,\n",
       "       14.339, 14.364, 14.389, 14.489, 14.54 , 14.59 , 14.615, 14.64 ,\n",
       "       14.715, 14.74 , 14.765, 14.84 , 14.865, 15.065, 15.115, 15.14 ,\n",
       "       15.165, 15.19 , 15.215, 15.24 , 15.265, 15.315, 15.34 , 15.415,\n",
       "       15.465, 15.49 , 15.541, 15.591, 15.666, 15.716, 15.741, 15.766,\n",
       "       15.816, 15.916, 15.991, 16.041, 16.066, 16.091, 16.191, 16.241,\n",
       "       16.291, 16.366, 16.441, 16.466, 16.567, 16.592, 16.617, 16.667,\n",
       "       16.692, 16.717, 16.792, 16.842, 16.917, 16.942, 16.967, 16.992,\n",
       "       17.017, 17.067, 17.117, 17.142, 17.167, 17.267, 17.317, 17.342,\n",
       "       17.367, 17.417, 17.442, 17.467, 17.492, 17.518, 17.543, 17.568,\n",
       "       17.593, 17.618, 17.643, 17.793, 17.818, 17.843, 17.893, 18.043,\n",
       "       18.068, 18.093, 18.218, 18.268, 18.318, 18.368, 18.393, 18.418,\n",
       "       18.519, 18.544, 18.594, 18.619, 18.694, 18.744, 18.769, 18.794,\n",
       "       18.844, 18.869, 18.919, 18.944, 18.994, 19.044, 19.069, 19.094,\n",
       "       19.169, 19.194, 19.269, 19.444, 19.545, 19.57 , 19.595, 19.62 ,\n",
       "       19.645, 19.67 , 19.695, 19.72 , 19.77 , 19.795, 19.82 , 19.845,\n",
       "       19.895, 19.945, 19.97 , 20.045, 20.095, 20.12 , 20.145, 20.17 ,\n",
       "       20.22 , 20.27 , 20.295, 20.32 , 20.345, 20.47 , 20.521, 20.571,\n",
       "       20.646, 20.671, 20.771, 20.796, 20.871, 21.046, 21.071, 21.121,\n",
       "       21.321, 21.396, 21.421, 21.446, 21.471, 21.496, 21.622, 21.672,\n",
       "       21.722, 21.822, 21.847, 21.922, 22.022, 22.072, 22.147, 22.222,\n",
       "       22.247, 22.272, 22.297, 22.322, 22.347, 22.422, 22.472, 22.497,\n",
       "       22.523, 22.623, 22.673, 22.723, 22.773, 22.798, 22.823, 22.873,\n",
       "       22.998, 23.023, 23.123, 23.223, 23.248, 23.273, 23.298, 23.323,\n",
       "       23.348, 23.373, 23.423, 23.473, 23.498, 23.549, 23.574, 23.599,\n",
       "       23.624, 23.699, 23.724, 23.799, 23.824, 23.849, 23.899, 23.949,\n",
       "       23.974, 24.024, 24.049, 24.174, 24.199, 24.249, 24.299, 24.349,\n",
       "       24.374, 24.399, 24.499, 24.525, 24.575, 24.65 , 24.75 , 24.775,\n",
       "       24.85 , 24.875, 24.95 , 25.   ])"
      ]
     },
     "execution_count": 38,
     "metadata": {},
     "output_type": "execute_result"
    }
   ],
   "source": [
    "x = df['speed']\n",
    "x = np.array(x)\n",
    "#x = rng.permutation(x)\n",
    "x"
   ]
  },
  {
   "cell_type": "code",
   "execution_count": 39,
   "metadata": {
    "scrolled": true
   },
   "outputs": [
    {
     "data": {
      "text/plain": [
       "array([0.00000e+00, 0.00000e+00, 0.00000e+00, 0.00000e+00, 0.00000e+00,\n",
       "       4.33100e+00, 5.18600e+00, 3.82600e+00, 1.04800e+00, 5.55300e+00,\n",
       "       6.49800e+00, 5.24100e+00, 4.22000e+00, 7.97400e+00, 9.74600e+00,\n",
       "       0.00000e+00, 0.00000e+00, 7.27100e+00, 7.95000e-01, 7.35000e+00,\n",
       "       1.99600e+00, 1.60900e+00, 2.06400e+00, 6.51100e+00, 0.00000e+00,\n",
       "       2.08500e+00, 0.00000e+00, 1.21000e-01, 1.20800e+00, 3.37300e+00,\n",
       "       6.51000e+00, 0.00000e+00, 4.15600e+00, 2.00500e+00, 5.35200e+00,\n",
       "       0.00000e+00, 7.22100e+00, 0.00000e+00, 2.43900e+00, 0.00000e+00,\n",
       "       2.35900e+00, 7.04800e+00, 0.00000e+00, 0.00000e+00, 0.00000e+00,\n",
       "       2.70100e+00, 2.86900e+00, 0.00000e+00, 2.28700e+00, 6.94700e+00,\n",
       "       2.37000e+00, 3.16500e+00, 6.67000e-01, 7.55900e+00, 1.41310e+01,\n",
       "       2.89400e+00, 3.57800e+00, 2.63300e+00, 2.83600e+00, 3.06300e+00,\n",
       "       0.00000e+00, 1.36000e+00, 4.33400e+00, 2.16700e+00, 6.81900e+00,\n",
       "       0.00000e+00, 5.30000e+00, 0.00000e+00, 1.53500e+00, 9.89000e+00,\n",
       "       0.00000e+00, 2.27000e+00, 4.59500e+00, 0.00000e+00, 0.00000e+00,\n",
       "       0.00000e+00, 4.45300e+00, 4.41500e+00, 1.32000e-01, 2.03000e+00,\n",
       "       1.03500e+00, 4.43700e+00, 1.04300e+00, 0.00000e+00, 3.93400e+00,\n",
       "       6.82400e+00, 1.35920e+01, 8.20000e-01, 1.04440e+01, 0.00000e+00,\n",
       "       7.06000e+00, 9.46000e-01, 1.90700e+00, 1.68100e+00, 9.51900e+00,\n",
       "       2.97300e+00, 8.62300e+00, 4.52500e+00, 9.32000e-01, 2.47800e+00,\n",
       "       1.13000e-01, 1.16640e+01, 9.29000e-01, 4.45400e+00, 3.20000e+00,\n",
       "       0.00000e+00, 6.18400e+00, 3.03600e+00, 1.62600e+00, 5.63100e+00,\n",
       "       0.00000e+00, 0.00000e+00, 4.38000e+00, 1.82600e+00, 0.00000e+00,\n",
       "       4.29200e+00, 2.76200e+00, 5.53900e+00, 3.91200e+00, 3.96000e+00,\n",
       "       9.97000e-01, 1.08640e+01, 2.23600e+00, 5.34700e+00, 6.49100e+00,\n",
       "       5.84200e+00, 6.44600e+00, 3.51000e+00, 1.02620e+01, 5.68200e+00,\n",
       "       1.00440e+01, 9.07900e+00, 1.53000e+00, 0.00000e+00, 8.61600e+00,\n",
       "       0.00000e+00, 0.00000e+00, 4.18700e+00, 1.48500e+00, 9.77900e+00,\n",
       "       0.00000e+00, 7.97300e+00, 6.70000e-02, 8.23800e+00, 9.40600e+00,\n",
       "       5.25200e+00, 4.24300e+00, 4.59700e+00, 3.12200e+00, 0.00000e+00,\n",
       "       9.03400e+00, 6.85300e+00, 8.47100e+00, 1.47880e+01, 7.24500e+00,\n",
       "       1.02970e+01, 4.44300e+00, 1.31420e+01, 1.13210e+01, 9.38500e+00,\n",
       "       5.94700e+00, 1.45110e+01, 5.69600e+00, 6.98300e+00, 5.38500e+00,\n",
       "       1.17490e+01, 7.83000e+00, 7.78500e+00, 9.81200e+00, 6.65600e+00,\n",
       "       3.00000e+00, 1.14220e+01, 1.31130e+01, 1.64130e+01, 9.42000e+00,\n",
       "       8.93700e+00, 1.07600e+01, 1.41600e+01, 1.66970e+01, 5.55400e+00,\n",
       "       1.11200e+01, 1.37740e+01, 1.28810e+01, 1.80360e+01, 1.80420e+01,\n",
       "       9.91100e+00, 1.40550e+01, 1.73930e+01, 2.41640e+01, 1.53940e+01,\n",
       "       1.48450e+01, 2.71360e+01, 1.37840e+01, 1.36570e+01, 1.93540e+01,\n",
       "       1.61390e+01, 2.07090e+01, 2.64270e+01, 1.26240e+01, 1.64740e+01,\n",
       "       2.23050e+01, 2.07040e+01, 3.03410e+01, 2.42930e+01, 2.06360e+01,\n",
       "       2.81810e+01, 2.22160e+01, 1.35200e+01, 0.00000e+00, 2.27580e+01,\n",
       "       2.69270e+01, 2.49420e+01, 1.56380e+01, 2.36880e+01, 3.04830e+01,\n",
       "       3.11530e+01, 2.76880e+01, 2.84520e+01, 2.82210e+01, 3.13360e+01,\n",
       "       2.96010e+01, 3.15300e+01, 3.46930e+01, 4.02240e+01, 3.35890e+01,\n",
       "       3.81840e+01, 3.86360e+01, 3.12140e+01, 4.14860e+01, 4.24850e+01,\n",
       "       3.85520e+01, 3.67870e+01, 3.18400e+01, 4.16920e+01, 5.16810e+01,\n",
       "       3.72940e+01, 4.72680e+01, 3.95840e+01, 4.15990e+01, 4.50560e+01,\n",
       "       4.31980e+01, 4.61360e+01, 4.34540e+01, 4.72820e+01, 4.05190e+01,\n",
       "       3.71590e+01, 5.29520e+01, 4.47450e+01, 4.47350e+01, 4.48010e+01,\n",
       "       4.23360e+01, 5.40790e+01, 5.14710e+01, 4.48800e+01, 5.11490e+01,\n",
       "       4.73440e+01, 5.06580e+01, 4.77870e+01, 5.39540e+01, 5.32810e+01,\n",
       "       4.97960e+01, 5.81680e+01, 6.28300e+01, 5.97350e+01, 6.45410e+01,\n",
       "       6.23150e+01, 6.56050e+01, 6.58890e+01, 6.33830e+01, 6.11270e+01,\n",
       "       6.32650e+01, 6.39100e+01, 6.82320e+01, 6.55960e+01, 6.92400e+01,\n",
       "       6.65500e+01, 6.65960e+01, 6.72630e+01, 6.75120e+01, 6.86160e+01,\n",
       "       6.56420e+01, 7.65510e+01, 6.42210e+01, 7.17630e+01, 7.36520e+01,\n",
       "       6.72690e+01, 7.20160e+01, 7.95860e+01, 7.84990e+01, 6.96990e+01,\n",
       "       8.21470e+01, 7.54660e+01, 7.21350e+01, 7.39110e+01, 7.82840e+01,\n",
       "       7.77250e+01, 6.92480e+01, 7.71640e+01, 8.01830e+01, 7.17870e+01,\n",
       "       8.03900e+01, 8.72300e+01, 7.89870e+01, 8.32510e+01, 8.04180e+01,\n",
       "       7.85280e+01, 8.58910e+01, 8.12390e+01, 8.62880e+01, 8.72850e+01,\n",
       "       7.97200e+01, 8.41330e+01, 8.77410e+01, 7.89910e+01, 7.89940e+01,\n",
       "       7.86320e+01, 8.66110e+01, 9.04120e+01, 8.51730e+01, 8.71920e+01,\n",
       "       8.59990e+01, 8.80420e+01, 8.91340e+01, 9.65920e+01, 8.76630e+01,\n",
       "       9.29970e+01, 9.72740e+01, 9.27530e+01, 8.95270e+01, 9.36980e+01,\n",
       "       9.01710e+01, 9.75320e+01, 9.07610e+01, 9.49250e+01, 9.55930e+01,\n",
       "       9.18080e+01, 9.14910e+01, 9.40930e+01, 9.12700e+01, 9.56220e+01,\n",
       "       0.00000e+00, 1.00831e+02, 9.69700e+01, 8.96130e+01, 9.12060e+01,\n",
       "       9.53960e+01, 8.55330e+01, 1.00889e+02, 9.11250e+01, 8.77310e+01,\n",
       "       9.04350e+01, 8.95690e+01, 9.01420e+01, 9.33800e+01, 1.02322e+02,\n",
       "       1.00429e+02, 9.31050e+01, 9.12700e+01, 9.05460e+01, 9.14900e+01,\n",
       "       9.74270e+01, 8.97890e+01, 8.79800e+01, 9.07510e+01, 9.90900e+01,\n",
       "       9.85400e+01, 9.88550e+01, 9.92140e+01, 9.37690e+01, 1.04161e+02,\n",
       "       1.00485e+02, 9.92420e+01, 9.60580e+01, 9.66420e+01, 1.02440e+02,\n",
       "       9.60540e+01, 9.26550e+01, 8.79860e+01, 8.90470e+01, 9.80780e+01,\n",
       "       1.00142e+02, 1.02364e+02, 1.00287e+02, 9.71480e+01, 1.03387e+02,\n",
       "       1.00428e+02, 9.67250e+01, 1.00372e+02, 9.82720e+01, 9.48500e+01,\n",
       "       9.22030e+01, 9.15010e+01, 9.24610e+01, 9.65440e+01, 9.71730e+01,\n",
       "       1.03629e+02, 9.26100e+01, 9.47800e+01, 9.40710e+01, 1.04188e+02,\n",
       "       9.44890e+01, 9.94720e+01, 9.87900e+01, 9.96970e+01, 0.00000e+00,\n",
       "       8.90780e+01, 9.90290e+01, 9.69630e+01, 1.01507e+02, 9.50120e+01,\n",
       "       1.07584e+02, 1.00699e+02, 1.04258e+02, 1.01270e+02, 9.49800e+01,\n",
       "       1.03405e+02, 1.12362e+02, 9.95370e+01, 9.63410e+01, 9.42160e+01,\n",
       "       1.08485e+02, 9.91030e+01, 9.63480e+01, 1.01212e+02, 9.86820e+01,\n",
       "       8.85440e+01, 1.01721e+02, 1.00937e+02, 9.76710e+01, 8.97130e+01,\n",
       "       1.03433e+02, 1.06208e+02, 9.77970e+01, 1.03268e+02, 1.03922e+02,\n",
       "       1.04052e+02, 1.04516e+02, 9.94600e+01, 1.02281e+02, 9.66500e+01,\n",
       "       9.39310e+01, 9.35670e+01, 1.01190e+02, 1.00206e+02, 9.78030e+01,\n",
       "       9.93570e+01, 1.03306e+02, 1.09932e+02, 9.72560e+01, 1.00558e+02,\n",
       "       1.00698e+02, 9.39640e+01, 1.02544e+02, 9.80670e+01, 1.01342e+02,\n",
       "       1.00549e+02, 0.00000e+00, 1.01308e+02, 1.01654e+02, 1.02462e+02,\n",
       "       1.04655e+02, 1.13556e+02, 9.63370e+01, 9.82790e+01, 1.08167e+02,\n",
       "       1.04977e+02, 9.75230e+01, 9.48670e+01, 9.35270e+01, 9.80660e+01,\n",
       "       1.01120e+02, 1.00311e+02, 1.02644e+02, 9.18800e+01, 9.69860e+01,\n",
       "       9.46710e+01, 9.73340e+01, 1.00322e+02, 1.00089e+02, 9.53640e+01,\n",
       "       9.42700e+01, 1.05992e+02, 9.35240e+01, 9.58690e+01, 1.01419e+02,\n",
       "       1.03700e+02, 9.36940e+01, 9.30780e+01, 9.82230e+01, 9.51170e+01,\n",
       "       0.00000e+00, 0.00000e+00, 0.00000e+00, 0.00000e+00, 0.00000e+00,\n",
       "       0.00000e+00, 0.00000e+00, 0.00000e+00, 0.00000e+00, 0.00000e+00])"
      ]
     },
     "execution_count": 39,
     "metadata": {},
     "output_type": "execute_result"
    }
   ],
   "source": [
    "y = df['power']\n",
    "y = np.array(y)\n",
    "#y = rng.permutation(y)\n",
    "y"
   ]
  },
  {
   "cell_type": "code",
   "execution_count": 40,
   "metadata": {},
   "outputs": [
    {
     "data": {
      "text/plain": [
       "[<matplotlib.lines.Line2D at 0x1f541a8fa88>]"
      ]
     },
     "execution_count": 40,
     "metadata": {},
     "output_type": "execute_result"
    },
    {
     "data": {
      "image/png": "[encoded data removed]",
      "text/plain": [
       "<Figure size 432x288 with 1 Axes>"
      ]
     },
     "metadata": {
      "needs_background": "light"
     },
     "output_type": "display_data"
    }
   ],
   "source": [
    "plt.plot(x, y, '.', label = \"Data\")"
   ]
  },
  {
   "cell_type": "code",
   "execution_count": 41,
   "metadata": {},
   "outputs": [
    {
     "data": {
      "text/plain": [
       "array([  4.91759567, -13.89990263])"
      ]
     },
     "execution_count": 41,
     "metadata": {},
     "output_type": "execute_result"
    }
   ],
   "source": [
    "coeffs = np.polyfit(x, y, 1)\n",
    "coeffs"
   ]
  },
  {
   "cell_type": "code",
   "execution_count": 10,
   "metadata": {},
   "outputs": [
    {
     "data": {
      "image/png": "[encoded data removed]",
      "text/plain": [
       "<Figure size 432x288 with 1 Axes>"
      ]
     },
     "metadata": {
      "needs_background": "light"
     },
     "output_type": "display_data"
    }
   ],
   "source": [
    "plt.plot(x, y, '.', label = \"Data\")\n",
    "plt.plot(x, coeffs[0] * x + coeffs[1], '-', label = \"Best Fit\")\n",
    "plt.legend()\n",
    "plt.show()"
   ]
  },
  {
   "cell_type": "code",
   "execution_count": 11,
   "metadata": {},
   "outputs": [
    {
     "data": {
      "text/plain": [
       "59.86403235055045"
      ]
     },
     "execution_count": 11,
     "metadata": {},
     "output_type": "execute_result"
    }
   ],
   "source": [
    "pred1 = coeffs[0] * 15 + coeffs[1]\n",
    "pred1"
   ]
  },
  {
   "cell_type": "code",
   "execution_count": 42,
   "metadata": {},
   "outputs": [],
   "source": [
    "x = x.reshape(-1, 1)\n",
    "y = y.reshape(-1, 1)"
   ]
  },
  {
   "cell_type": "code",
   "execution_count": 47,
   "metadata": {},
   "outputs": [],
   "source": [
    "m = lm.LinearRegression()"
   ]
  },
  {
   "cell_type": "code",
   "execution_count": 44,
   "metadata": {},
   "outputs": [],
   "source": [
    "# split data into training and testing sets\n",
    "x_train = x[:400]\n",
    "x_test = x[400:]"
   ]
  },
  {
   "cell_type": "code",
   "execution_count": 53,
   "metadata": {
    "scrolled": true
   },
   "outputs": [
    {
     "data": {
      "text/plain": [
       "array([[ 94.489],\n",
       "       [ 99.472],\n",
       "       [ 98.79 ],\n",
       "       [ 99.697],\n",
       "       [  0.   ],\n",
       "       [ 89.078],\n",
       "       [ 99.029],\n",
       "       [ 96.963],\n",
       "       [101.507],\n",
       "       [ 95.012],\n",
       "       [107.584],\n",
       "       [100.699],\n",
       "       [104.258],\n",
       "       [101.27 ],\n",
       "       [ 94.98 ],\n",
       "       [103.405],\n",
       "       [112.362],\n",
       "       [ 99.537],\n",
       "       [ 96.341],\n",
       "       [ 94.216],\n",
       "       [108.485],\n",
       "       [ 99.103],\n",
       "       [ 96.348],\n",
       "       [101.212],\n",
       "       [ 98.682],\n",
       "       [ 88.544],\n",
       "       [101.721],\n",
       "       [100.937],\n",
       "       [ 97.671],\n",
       "       [ 89.713],\n",
       "       [103.433],\n",
       "       [106.208],\n",
       "       [ 97.797],\n",
       "       [103.268],\n",
       "       [103.922],\n",
       "       [104.052],\n",
       "       [104.516],\n",
       "       [ 99.46 ],\n",
       "       [102.281],\n",
       "       [ 96.65 ],\n",
       "       [ 93.931],\n",
       "       [ 93.567],\n",
       "       [101.19 ],\n",
       "       [100.206],\n",
       "       [ 97.803],\n",
       "       [ 99.357],\n",
       "       [103.306],\n",
       "       [109.932],\n",
       "       [ 97.256],\n",
       "       [100.558],\n",
       "       [100.698],\n",
       "       [ 93.964],\n",
       "       [102.544],\n",
       "       [ 98.067],\n",
       "       [101.342],\n",
       "       [100.549],\n",
       "       [  0.   ],\n",
       "       [101.308],\n",
       "       [101.654],\n",
       "       [102.462],\n",
       "       [104.655],\n",
       "       [113.556],\n",
       "       [ 96.337],\n",
       "       [ 98.279],\n",
       "       [108.167],\n",
       "       [104.977],\n",
       "       [ 97.523],\n",
       "       [ 94.867],\n",
       "       [ 93.527],\n",
       "       [ 98.066],\n",
       "       [101.12 ],\n",
       "       [100.311],\n",
       "       [102.644],\n",
       "       [ 91.88 ],\n",
       "       [ 96.986],\n",
       "       [ 94.671],\n",
       "       [ 97.334],\n",
       "       [100.322],\n",
       "       [100.089],\n",
       "       [ 95.364],\n",
       "       [ 94.27 ],\n",
       "       [105.992],\n",
       "       [ 93.524],\n",
       "       [ 95.869],\n",
       "       [101.419],\n",
       "       [103.7  ],\n",
       "       [ 93.694],\n",
       "       [ 93.078],\n",
       "       [ 98.223],\n",
       "       [ 95.117],\n",
       "       [  0.   ],\n",
       "       [  0.   ],\n",
       "       [  0.   ],\n",
       "       [  0.   ],\n",
       "       [  0.   ],\n",
       "       [  0.   ],\n",
       "       [  0.   ],\n",
       "       [  0.   ],\n",
       "       [  0.   ],\n",
       "       [  0.   ]])"
      ]
     },
     "execution_count": 53,
     "metadata": {},
     "output_type": "execute_result"
    }
   ],
   "source": [
    "# split data into training and testing sets\n",
    "y_train = y[:400]\n",
    "y_test = y[400:]\n",
    "y_test"
   ]
  },
  {
   "cell_type": "code",
   "execution_count": 48,
   "metadata": {},
   "outputs": [
    {
     "data": {
      "text/plain": [
       "LinearRegression(copy_X=True, fit_intercept=True, n_jobs=None, normalize=False)"
      ]
     },
     "execution_count": 48,
     "metadata": {},
     "output_type": "execute_result"
    }
   ],
   "source": [
    "m.fit(x_train, y_train)"
   ]
  },
  {
   "cell_type": "code",
   "execution_count": 54,
   "metadata": {
    "scrolled": true
   },
   "outputs": [
    {
     "data": {
      "text/plain": [
       "array([[ 96.8692154 ],\n",
       "       [ 97.16934117],\n",
       "       [ 97.31940405],\n",
       "       [ 97.76959271],\n",
       "       [ 98.06971848],\n",
       "       [ 98.21978136],\n",
       "       [ 98.36984425],\n",
       "       [ 98.51990713],\n",
       "       [ 98.8200329 ],\n",
       "       [ 99.12015867],\n",
       "       [ 99.27022156],\n",
       "       [ 99.42028444],\n",
       "       [ 99.57034733],\n",
       "       [100.32066175],\n",
       "       [100.62679004],\n",
       "       [100.92691581],\n",
       "       [101.37710446],\n",
       "       [101.52716735],\n",
       "       [102.12741889],\n",
       "       [102.27748177],\n",
       "       [102.72767043],\n",
       "       [103.77811062],\n",
       "       [103.92817351],\n",
       "       [104.22829928],\n",
       "       [105.42880236],\n",
       "       [105.87899101],\n",
       "       [106.0290539 ],\n",
       "       [106.17911678],\n",
       "       [106.32917967],\n",
       "       [106.47924255],\n",
       "       [107.23555949],\n",
       "       [107.53568526],\n",
       "       [107.83581103],\n",
       "       [108.43606257],\n",
       "       [108.58612546],\n",
       "       [109.03631411],\n",
       "       [109.63656565],\n",
       "       [109.93669142],\n",
       "       [110.38688008],\n",
       "       [110.83706873],\n",
       "       [110.98713162],\n",
       "       [111.1371945 ],\n",
       "       [111.28725739],\n",
       "       [111.43732027],\n",
       "       [111.58738316],\n",
       "       [112.03757181],\n",
       "       [112.33769758],\n",
       "       [112.48776047],\n",
       "       [112.64382587],\n",
       "       [113.24407741],\n",
       "       [113.54420318],\n",
       "       [113.84432895],\n",
       "       [114.14445472],\n",
       "       [114.2945176 ],\n",
       "       [114.44458049],\n",
       "       [114.74470626],\n",
       "       [115.49502068],\n",
       "       [115.64508357],\n",
       "       [116.24533511],\n",
       "       [116.84558665],\n",
       "       [116.99564953],\n",
       "       [117.14571242],\n",
       "       [117.2957753 ],\n",
       "       [117.44583819],\n",
       "       [117.59590107],\n",
       "       [117.74596396],\n",
       "       [118.04608973],\n",
       "       [118.3462155 ],\n",
       "       [118.49627838],\n",
       "       [118.80240667],\n",
       "       [118.95246955],\n",
       "       [119.10253244],\n",
       "       [119.25259532],\n",
       "       [119.70278398],\n",
       "       [119.85284686],\n",
       "       [120.30303552],\n",
       "       [120.4530984 ],\n",
       "       [120.60316129],\n",
       "       [120.90328706],\n",
       "       [121.20341283],\n",
       "       [121.35347571],\n",
       "       [121.65360148],\n",
       "       [121.80366437],\n",
       "       [122.55397879],\n",
       "       [122.70404168],\n",
       "       [123.00416745],\n",
       "       [123.30429322],\n",
       "       [123.60441899],\n",
       "       [123.75448187],\n",
       "       [123.90454476],\n",
       "       [124.5047963 ],\n",
       "       [124.6608617 ],\n",
       "       [124.96098747],\n",
       "       [125.41117612],\n",
       "       [126.01142766],\n",
       "       [126.16149055],\n",
       "       [126.6116792 ],\n",
       "       [126.76174209],\n",
       "       [127.21193074],\n",
       "       [127.51205651]])"
      ]
     },
     "execution_count": 54,
     "metadata": {},
     "output_type": "execute_result"
    }
   ],
   "source": [
    "# making predictions\n",
    "y_pred = m.predict(x_test)\n",
    "y_pred"
   ]
  },
  {
   "cell_type": "code",
   "execution_count": 50,
   "metadata": {},
   "outputs": [
    {
     "name": "stdout",
     "output_type": "stream",
     "text": [
      "Coefficient of determination: -0.90\n"
     ]
    }
   ],
   "source": [
    "print('Coefficient of determination: %.2f' % r2_score(y_test, y_pred))"
   ]
  },
  {
   "cell_type": "code",
   "execution_count": null,
   "metadata": {},
   "outputs": [],
   "source": [
    "linreg.fit(x, y)\n",
    "linreg.intercept_\n",
    "linreg.coef_\n"
   ]
  },
  {
   "cell_type": "code",
   "execution_count": 59,
   "metadata": {},
   "outputs": [
    {
     "data": {
      "text/plain": [
       "0.7289360258564073"
      ]
     },
     "execution_count": 59,
     "metadata": {},
     "output_type": "execute_result"
    }
   ],
   "source": [
    "linreg.score(x, y)"
   ]
  },
  {
   "cell_type": "code",
   "execution_count": 9,
   "metadata": {},
   "outputs": [
    {
     "name": "stdout",
     "output_type": "stream",
     "text": [
      "Cost with m =  4.92 and c = -13.90: 1480014.96\n"
     ]
    }
   ],
   "source": [
    "cost = lambda m,c: np.sum([(y[i] - m * x[i] - c)**2 for i in range(x.size)])\n",
    "\n",
    "print(\"Cost with m = %5.2f and c = %5.2f: %8.2f\" % (4.9176, -13.8999, cost(4.9176, -13.8999)))"
   ]
  },
  {
   "cell_type": "code",
   "execution_count": 20,
   "metadata": {},
   "outputs": [],
   "source": [
    "a, b, c, d = np.polyfit(x, y, 3)"
   ]
  },
  {
   "cell_type": "code",
   "execution_count": 23,
   "metadata": {},
   "outputs": [
    {
     "data": {
      "text/plain": [
       "[<matplotlib.lines.Line2D at 0x1f53f013bc8>]"
      ]
     },
     "execution_count": 23,
     "metadata": {},
     "output_type": "execute_result"
    },
    {
     "data": {
      "image/png": "[encoded data removed]",
      "text/plain": [
       "<Figure size 432x288 with 1 Axes>"
      ]
     },
     "metadata": {
      "needs_background": "light"
     },
     "output_type": "display_data"
    }
   ],
   "source": [
    "plt.plot(x, y, '.', label = \"Data\")\n",
    "plt.plot(x, a*x*x*x + b*x*x + c *x +d, 'r-')"
   ]
  },
  {
   "cell_type": "code",
   "execution_count": 31,
   "metadata": {},
   "outputs": [],
   "source": []
  },
  {
   "cell_type": "code",
   "execution_count": 32,
   "metadata": {},
   "outputs": [],
   "source": []
  },
  {
   "cell_type": "code",
   "execution_count": null,
   "metadata": {},
   "outputs": [],
   "source": []
  },
  {
   "cell_type": "code",
   "execution_count": null,
   "metadata": {},
   "outputs": [],
   "source": []
  },
  {
   "cell_type": "code",
   "execution_count": null,
   "metadata": {},
   "outputs": [],
   "source": []
  },
  {
   "cell_type": "markdown",
   "metadata": {},
   "source": [
    "### References\n",
    "[1]. Linear Regression, https://en.wikipedia.org/wiki/Linear_regression\n",
    "\n",
    "[2]. Correlation and Regression, https://www.bmj.com/about-bmj/resources-readers/publications/statistics-square-one/11-correlation-and-regression\n",
    "\n"
   ]
  },
  {
   "cell_type": "code",
   "execution_count": null,
   "metadata": {},
   "outputs": [],
   "source": []
  }
 ],
 "metadata": {
  "kernelspec": {
   "display_name": "Python 3",
   "language": "python",
   "name": "python3"
  },
  "language_info": {
   "codemirror_mode": {
    "name": "ipython",
    "version": 3
   },
   "file_extension": ".py",
   "mimetype": "text/x-python",
   "name": "python",
   "nbconvert_exporter": "python",
   "pygments_lexer": "ipython3",
   "version": "3.7.4"
  }
 },
 "nbformat": 4,
 "nbformat_minor": 2
}
