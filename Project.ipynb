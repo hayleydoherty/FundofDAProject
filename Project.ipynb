{
 "cells": [
  {
   "cell_type": "markdown",
   "metadata": {},
   "source": [
    "## Fundamentals of Data Analysis Project\n",
    "#### Hayley Doherty G00387849\n",
    "---"
   ]
  },
  {
   "cell_type": "markdown",
   "metadata": {},
   "source": [
    "The aim of this project is to perform linear regression on a given dataset such that it will allow the accurate prediction of power output from wind speed values.  Linear regression is a method used to model the relatioship between a response and one or more explanatory variables [1].  If two variables are related, this means that when one changes by a certain amount, the other also changes by a certain amount.  When written in terms of x and y, with y being the response variable, this relationship is described as the regression of y on x.  In this context, the term regression measn that y is a function of x and changes with x [2].  "
   ]
  },
  {
   "cell_type": "code",
   "execution_count": 75,
   "metadata": {},
   "outputs": [],
   "source": [
    "import numpy as np\n",
    "import pandas as pd\n",
    "import matplotlib.pyplot as plt\n",
    "from numpy.random import default_rng\n",
    "rng = default_rng()"
   ]
  },
  {
   "cell_type": "code",
   "execution_count": 3,
   "metadata": {},
   "outputs": [
    {
     "data": {
      "text/html": [
       "<div>\n",
       "<style scoped>\n",
       "    .dataframe tbody tr th:only-of-type {\n",
       "        vertical-align: middle;\n",
       "    }\n",
       "\n",
       "    .dataframe tbody tr th {\n",
       "        vertical-align: top;\n",
       "    }\n",
       "\n",
       "    .dataframe thead th {\n",
       "        text-align: right;\n",
       "    }\n",
       "</style>\n",
       "<table border=\"1\" class=\"dataframe\">\n",
       "  <thead>\n",
       "    <tr style=\"text-align: right;\">\n",
       "      <th></th>\n",
       "      <th>speed</th>\n",
       "      <th>power</th>\n",
       "    </tr>\n",
       "  </thead>\n",
       "  <tbody>\n",
       "    <tr>\n",
       "      <td>0</td>\n",
       "      <td>0.000</td>\n",
       "      <td>0.0</td>\n",
       "    </tr>\n",
       "    <tr>\n",
       "      <td>1</td>\n",
       "      <td>0.125</td>\n",
       "      <td>0.0</td>\n",
       "    </tr>\n",
       "    <tr>\n",
       "      <td>2</td>\n",
       "      <td>0.150</td>\n",
       "      <td>0.0</td>\n",
       "    </tr>\n",
       "    <tr>\n",
       "      <td>3</td>\n",
       "      <td>0.225</td>\n",
       "      <td>0.0</td>\n",
       "    </tr>\n",
       "    <tr>\n",
       "      <td>4</td>\n",
       "      <td>0.275</td>\n",
       "      <td>0.0</td>\n",
       "    </tr>\n",
       "    <tr>\n",
       "      <td>...</td>\n",
       "      <td>...</td>\n",
       "      <td>...</td>\n",
       "    </tr>\n",
       "    <tr>\n",
       "      <td>495</td>\n",
       "      <td>24.775</td>\n",
       "      <td>0.0</td>\n",
       "    </tr>\n",
       "    <tr>\n",
       "      <td>496</td>\n",
       "      <td>24.850</td>\n",
       "      <td>0.0</td>\n",
       "    </tr>\n",
       "    <tr>\n",
       "      <td>497</td>\n",
       "      <td>24.875</td>\n",
       "      <td>0.0</td>\n",
       "    </tr>\n",
       "    <tr>\n",
       "      <td>498</td>\n",
       "      <td>24.950</td>\n",
       "      <td>0.0</td>\n",
       "    </tr>\n",
       "    <tr>\n",
       "      <td>499</td>\n",
       "      <td>25.000</td>\n",
       "      <td>0.0</td>\n",
       "    </tr>\n",
       "  </tbody>\n",
       "</table>\n",
       "<p>500 rows × 2 columns</p>\n",
       "</div>"
      ],
      "text/plain": [
       "      speed  power\n",
       "0     0.000    0.0\n",
       "1     0.125    0.0\n",
       "2     0.150    0.0\n",
       "3     0.225    0.0\n",
       "4     0.275    0.0\n",
       "..      ...    ...\n",
       "495  24.775    0.0\n",
       "496  24.850    0.0\n",
       "497  24.875    0.0\n",
       "498  24.950    0.0\n",
       "499  25.000    0.0\n",
       "\n",
       "[500 rows x 2 columns]"
      ]
     },
     "execution_count": 3,
     "metadata": {},
     "output_type": "execute_result"
    }
   ],
   "source": [
    "df = pd.read_csv('powerproduction.csv')\n",
    "df"
   ]
  },
  {
   "cell_type": "code",
   "execution_count": 77,
   "metadata": {
    "scrolled": true
   },
   "outputs": [
    {
     "data": {
      "text/plain": [
       "array([ 6.982, 17.818,  5.506, 20.22 ,  1.001, 19.795, 16.917,  7.558,\n",
       "        9.309, 10.135,  9.434, 19.82 , 14.59 , 19.67 , 10.711,  3.904,\n",
       "       10.736, 11.787, 20.646, 15.115,  5.205,  5.781,  5.706, 16.241,\n",
       "       19.044,  3.929, 16.066, 22.147,  5.806,  6.957,  0.225,  0.45 ,\n",
       "       15.49 , 19.57 , 21.046,  0.626, 19.169, 12.863,  3.504,  0.551,\n",
       "       17.543,  7.082, 17.317, 17.142, 14.189,  7.883,  6.857, 13.438,\n",
       "       10.511, 14.74 , 23.323, 10.385, 15.065, 15.741,  3.203, 16.842,\n",
       "        0.951, 16.366, 23.599, 21.471, 24.85 , 18.268, 22.798, 14.765,\n",
       "        0.826,  7.232,  3.053, 24.374, 15.34 ,  3.679,  1.552, 15.666,\n",
       "        6.481, 16.041, 14.715, 16.692, 19.845, 11.386,  1.301, 18.869,\n",
       "       23.273,  2.027, 16.091,  0.676, 22.998, 21.496,  5.681,  2.853,\n",
       "       13.564,  5.831, 15.19 , 22.347,  6.732, 18.318, 22.297, 24.775,\n",
       "        7.207, 14.139,  8.859, 10.085, 19.895,  4.605,  6.607, 16.942,\n",
       "       14.264,  8.033, 12.563, 13.263, 11.812, 12.162,  0.751, 21.622,\n",
       "       15.24 , 13.539,  4.179,  2.177,  5.18 ,  1.026, 19.97 , 11.161,\n",
       "        4.53 ,  7.608, 21.446, 17.593, 10.035,  5.981, 10.561,  5.305,\n",
       "       24.199, 12.713, 21.722, 12.538,  2.828, 15.816, 24.95 ,  6.356,\n",
       "        2.703,  0.325,  8.208,  7.257, 15.165, 12.212, 17.793,  4.93 ,\n",
       "       14.54 ,  9.61 ,  9.985, 18.093, 24.299, 17.843, 18.068, 17.267,\n",
       "       17.492, 20.045,  5.956,  8.759,  3.804,  1.902, 10.185, 19.069,\n",
       "        9.209, 12.738, 10.16 , 10.11 ,  6.757, 23.423, 25.   , 16.792,\n",
       "       20.145, 20.521, 24.525, 24.024,  1.677,  0.701,  5.455,  7.182,\n",
       "        2.102, 24.399, 22.497,  0.801, 11.737, 11.211, 18.919, 22.623,\n",
       "       20.095, 24.174, 20.27 , 18.694, 10.761,  8.659,  0.4  ,  6.456,\n",
       "        3.629, 23.248, 11.862,  7.733,  6.081,  0.851,  0.926, 15.716,\n",
       "       24.875, 15.916, 21.071,  8.834,  1.051, 14.389,  7.508, 21.121,\n",
       "       22.723,  4.955, 14.364, 15.991,  7.432,  3.078,  3.428,  3.879,\n",
       "       13.038, 11.962, 23.574, 20.796,  7.633,  9.835, 13.739, 18.744,\n",
       "       20.345, 23.373,  3.529, 11.111,  8.534,  5.631,  2.477,  5.255,\n",
       "       22.072,  3.579,  4.329, 22.247,  5.28 ,  7.808,  3.979,  0.726,\n",
       "       23.473,  7.833,  7.307,  7.683,  9.96 , 10.235, 14.615,  7.908,\n",
       "       19.269, 22.673, 22.773, 12.462, 10.21 , 13.989, 21.396,  1.827,\n",
       "        2.227,  3.378, 19.194, 12.988, 16.717, 18.218, 23.298, 23.699,\n",
       "       23.624, 20.771,  9.935, 17.167,  6.682,  5.08 ,  8.884, 12.613,\n",
       "       20.571, 12.788,  3.779,  8.083,  8.458, 23.223,  3.729, 11.036,\n",
       "       10.986, 20.12 ,  2.953,  2.077, 21.672,  3.003, 17.417, 17.342,\n",
       "        8.408, 22.322, 12.487,  4.98 , 23.123, 21.421,  4.429,  8.308,\n",
       "        6.106, 15.591, 22.272, 11.612, 14.289,  0.275, 16.441, 19.72 ,\n",
       "       10.36 ,  3.704, 15.315, 22.222,  9.535,  3.403, 22.873,  6.231,\n",
       "        5.43 , 11.361, 13.313, 18.844,  5.556, 18.418,  5.731,  0.15 ,\n",
       "       24.049, 17.643,  5.906, 15.541, 23.724, 18.794, 23.498, 20.17 ,\n",
       "        6.832,  4.555, 10.961, 24.249, 18.619, 18.043, 12.387, 21.822,\n",
       "       19.595, 11.011,  9.81 ,  9.885, 18.944,  4.78 ,  1.276,  0.526,\n",
       "        1.877,  1.101, 17.117,  7.107, 19.945, 18.519, 16.466,  9.56 ,\n",
       "        7.057, 16.967, 11.937, 20.295, 17.893,  1.076, 23.348,  0.   ,\n",
       "        1.426, 10.285, 11.687, 12.588,  1.652, 13.388, 23.849, 23.949,\n",
       "       16.617, 21.321, 23.799, 15.215, 15.766, 14.489, 23.974, 16.992,\n",
       "        3.128,  8.634,  1.502, 12.187, 22.422,  5.03 ,  4.905, 11.336,\n",
       "       10.26 , 15.265, 12.362, 13.338, 23.824, 13.714, 14.865,  3.604,\n",
       "        5.13 ,  7.407, 14.84 , 20.871, 18.994, 21.847,  4.88 , 19.695,\n",
       "        6.156,  6.406,  2.252,  7.708,  8.133, 18.594,  6.131, 16.667,\n",
       "       17.017, 22.022, 17.367, 16.567, 17.618,  6.031, 12.963,  0.125,\n",
       "        3.954, 23.899,  2.553, 12.412,  2.402, 19.094, 23.023,  3.028,\n",
       "       19.62 ,  1.251, 14.339,  8.183, 17.067,  0.501, 24.349, 12.337,\n",
       "       14.64 , 18.769, 20.47 ,  0.576, 12.287, 18.368, 24.499, 20.32 ,\n",
       "       22.472, 14.039, 11.662,  4.73 , 12.888, 10.661,  9.86 , 21.922,\n",
       "        1.702, 13.939, 23.549, 15.415, 18.544,  0.976,  6.181, 19.645,\n",
       "        7.933,  1.151,  8.959,  2.578, 16.291, 19.545, 10.886, 11.987,\n",
       "        7.858, 17.467,  6.782, 10.485, 12.663,  1.401, 14.014,  9.735,\n",
       "        4.304, 11.311,  7.382, 24.75 , 18.393, 24.575, 12.262, 24.65 ,\n",
       "       16.191, 17.442, 11.286, 15.14 ,  8.684, 17.518,  6.006, 22.823,\n",
       "       15.465, 16.592, 19.444,  5.931, 17.568,  9.259, 12.037,  7.157,\n",
       "       13.964, 20.671, 22.523, 19.77 ])"
      ]
     },
     "execution_count": 77,
     "metadata": {},
     "output_type": "execute_result"
    }
   ],
   "source": [
    "x = df['speed']\n",
    "x = np.array(x)\n",
    "x = rng.permutation(x)\n",
    "x"
   ]
  },
  {
   "cell_type": "code",
   "execution_count": 78,
   "metadata": {
    "scrolled": true
   },
   "outputs": [
    {
     "data": {
      "text/plain": [
       "array([1.56380e+01, 5.34700e+00, 4.14860e+01, 0.00000e+00, 9.82230e+01,\n",
       "       0.00000e+00, 0.00000e+00, 0.00000e+00, 0.00000e+00, 8.51730e+01,\n",
       "       7.39110e+01, 1.53000e+00, 5.39540e+01, 7.24500e+00, 0.00000e+00,\n",
       "       4.47350e+01, 9.60580e+01, 7.89940e+01, 9.14900e+01, 0.00000e+00,\n",
       "       1.06208e+02, 9.05460e+01, 1.37740e+01, 5.11490e+01, 9.80780e+01,\n",
       "       9.73340e+01, 8.85440e+01, 7.21350e+01, 7.97300e+00, 1.03387e+02,\n",
       "       3.00000e+00, 9.46000e-01, 9.40930e+01, 9.18800e+01, 5.84200e+00,\n",
       "       6.70000e-02, 4.33100e+00, 2.27000e+00, 6.94700e+00, 6.65600e+00,\n",
       "       9.82790e+01, 9.31050e+01, 6.67000e-01, 9.42160e+01, 1.73930e+01,\n",
       "       6.51100e+00, 4.59700e+00, 9.65440e+01, 3.95840e+01, 9.81200e+00,\n",
       "       9.44890e+01, 4.48800e+01, 9.01710e+01, 1.00322e+02, 1.02644e+02,\n",
       "       6.33830e+01, 5.18600e+00, 9.96970e+01, 8.91340e+01, 4.45300e+00,\n",
       "       6.42210e+01, 1.02322e+02, 9.12060e+01, 9.76710e+01, 3.85520e+01,\n",
       "       4.33400e+00, 8.72850e+01, 3.67870e+01, 5.69600e+00, 5.16810e+01,\n",
       "       6.49800e+00, 1.03433e+02, 9.01420e+01, 0.00000e+00, 1.04300e+00,\n",
       "       0.00000e+00, 0.00000e+00, 7.97400e+00, 6.18400e+00, 9.04120e+01,\n",
       "       0.00000e+00, 9.53960e+01, 1.41600e+01, 1.00485e+02, 1.01342e+02,\n",
       "       9.46710e+01, 7.35000e+00, 0.00000e+00, 9.51170e+01, 8.80420e+01,\n",
       "       1.04161e+02, 1.17490e+01, 1.68100e+00, 6.56420e+01, 1.03922e+02,\n",
       "       1.14220e+01, 1.26240e+01, 0.00000e+00, 0.00000e+00, 3.16500e+00,\n",
       "       9.32000e-01, 9.66420e+01, 5.06580e+01, 1.00831e+02, 9.07900e+00,\n",
       "       1.03629e+02, 0.00000e+00, 2.07090e+01, 1.13210e+01, 1.60900e+00,\n",
       "       6.72630e+01, 3.57800e+00, 9.63410e+01, 8.12390e+01, 9.53640e+01,\n",
       "       0.00000e+00, 9.60540e+01, 6.65500e+01, 4.15600e+00, 2.06360e+01,\n",
       "       8.79800e+01, 5.32810e+01, 0.00000e+00, 8.93700e+00, 9.72560e+01,\n",
       "       1.80420e+01, 8.59990e+01, 6.23150e+01, 2.16700e+00, 4.50560e+01,\n",
       "       0.00000e+00, 5.14710e+01, 9.89000e+00, 7.78500e+00, 9.78030e+01,\n",
       "       6.39100e+01, 4.16920e+01, 9.36940e+01, 6.86160e+01, 1.01212e+02,\n",
       "       8.95690e+01, 3.04830e+01, 1.04516e+02, 1.40550e+01, 1.16640e+01,\n",
       "       9.29970e+01, 9.91100e+00, 1.00558e+02, 8.97130e+01, 1.00206e+02,\n",
       "       9.91030e+01, 4.34540e+01, 0.00000e+00, 6.49100e+00, 4.29200e+00,\n",
       "       9.94720e+01, 9.14910e+01, 1.03500e+00, 1.07584e+02, 1.03405e+02,\n",
       "       9.92140e+01, 0.00000e+00, 6.32650e+01, 1.11200e+01, 9.12700e+01,\n",
       "       1.36000e+00, 1.28810e+01, 1.03306e+02, 1.02970e+01, 1.00311e+02,\n",
       "       7.95860e+01, 1.13556e+02, 6.58890e+01, 2.28700e+00, 2.35900e+00,\n",
       "       0.00000e+00, 7.04800e+00, 5.35200e+00, 9.71480e+01, 8.77310e+01,\n",
       "       7.65510e+01, 3.91200e+00, 5.30000e+00, 9.69860e+01, 9.85400e+01,\n",
       "       9.47800e+01, 0.00000e+00, 9.03400e+00, 1.04800e+00, 0.00000e+00,\n",
       "       1.35920e+01, 1.02462e+02, 9.94600e+01, 8.20000e-01, 2.23600e+00,\n",
       "       4.38000e+00, 1.00372e+02, 3.03410e+01, 1.02544e+02, 6.85300e+00,\n",
       "       2.37000e+00, 1.08485e+02, 1.41310e+01, 8.66110e+01, 6.44600e+00,\n",
       "       0.00000e+00, 1.48450e+01, 3.93400e+00, 1.99600e+00, 8.01830e+01,\n",
       "       9.90900e+01, 2.86900e+00, 1.04655e+02, 9.75320e+01, 8.23800e+00,\n",
       "       9.97000e-01, 1.02281e+02, 9.35240e+01, 2.82210e+01, 2.27580e+01,\n",
       "       0.00000e+00, 9.35270e+01, 8.62880e+01, 8.58910e+01, 6.82320e+01,\n",
       "       1.01721e+02, 4.48010e+01, 5.68200e+00, 0.00000e+00, 1.04258e+02,\n",
       "       8.95270e+01, 0.00000e+00, 2.06400e+00, 2.69270e+01, 4.23360e+01,\n",
       "       6.72690e+01, 3.71590e+01, 2.23050e+01, 4.73440e+01, 0.00000e+00,\n",
       "       4.02240e+01, 3.96000e+00, 1.00287e+02, 9.07510e+01, 1.01190e+02,\n",
       "       4.61360e+01, 5.94700e+00, 9.48670e+01, 0.00000e+00, 6.92400e+01,\n",
       "       1.07600e+01, 1.93540e+01, 2.07040e+01, 2.41640e+01, 1.45110e+01,\n",
       "       7.89910e+01, 2.03000e+00, 5.55300e+00, 7.95000e-01, 3.13360e+01,\n",
       "       7.86320e+01, 9.39640e+01, 9.42000e+00, 7.55900e+00, 5.24100e+00,\n",
       "       6.28300e+01, 9.38500e+00, 1.01419e+02, 8.41330e+01, 6.92480e+01,\n",
       "       1.53500e+00, 1.04188e+02, 9.24610e+01, 1.01120e+02, 7.06000e+00,\n",
       "       1.00699e+02, 7.22100e+00, 2.84520e+01, 8.90470e+01, 4.05190e+01,\n",
       "       4.22000e+00, 1.02364e+02, 4.31980e+01, 0.00000e+00, 9.77970e+01,\n",
       "       6.82400e+00, 9.51900e+00, 9.75230e+01, 2.22160e+01, 1.64740e+01,\n",
       "       9.07610e+01, 1.01308e+02, 9.66500e+01, 1.64130e+01, 2.76880e+01,\n",
       "       1.80360e+01, 1.08167e+02, 9.12700e+01, 6.51000e+00, 1.00089e+02,\n",
       "       0.00000e+00, 7.82840e+01, 9.33800e+01, 3.03600e+00, 1.61390e+01,\n",
       "       0.00000e+00, 3.12200e+00, 1.03268e+02, 1.04440e+01, 9.86820e+01,\n",
       "       5.29520e+01, 1.90700e+00, 1.09932e+02, 9.27530e+01, 2.43900e+00,\n",
       "       5.63100e+00, 2.36880e+01, 4.43700e+00, 4.15990e+01, 8.71920e+01,\n",
       "       3.51000e+00, 1.13000e-01, 2.89400e+00, 9.58690e+01, 2.97300e+00,\n",
       "       8.62300e+00, 7.36520e+01, 9.35670e+01, 9.49800e+01, 1.21000e-01,\n",
       "       4.45400e+00, 2.83600e+00, 9.72740e+01, 2.81810e+01, 2.47800e+00,\n",
       "       6.65960e+01, 0.00000e+00, 1.53940e+01, 0.00000e+00, 9.80670e+01,\n",
       "       1.48500e+00, 2.71360e+01, 1.01507e+02, 8.04180e+01, 7.85280e+01,\n",
       "       5.25200e+00, 7.71640e+01, 7.20160e+01, 1.00698e+02, 9.63370e+01,\n",
       "       5.81680e+01, 5.53900e+00, 1.62600e+00, 2.76200e+00, 4.97960e+01,\n",
       "       0.00000e+00, 5.38500e+00, 1.37840e+01, 1.00937e+02, 7.97200e+01,\n",
       "       0.00000e+00, 3.18400e+01, 0.00000e+00, 1.08640e+01, 9.82720e+01,\n",
       "       0.00000e+00, 2.63300e+00, 6.45410e+01, 4.24850e+01, 1.00440e+01,\n",
       "       9.50120e+01, 8.76630e+01, 9.22030e+01, 9.29000e-01, 1.31130e+01,\n",
       "       9.49250e+01, 6.11270e+01, 9.77900e+00, 0.00000e+00, 1.01654e+02,\n",
       "       4.59500e+00, 2.96010e+01, 9.69700e+01, 7.17870e+01, 9.74600e+00,\n",
       "       3.11530e+01, 0.00000e+00, 9.40600e+00, 7.17630e+01, 4.72680e+01,\n",
       "       7.27100e+00, 9.63480e+01, 9.80660e+01, 9.30780e+01, 8.32510e+01,\n",
       "       3.86360e+01, 6.98300e+00, 1.04052e+02, 1.35200e+01, 9.11250e+01,\n",
       "       9.37690e+01, 0.00000e+00, 6.81900e+00, 4.41500e+00, 7.83000e+00,\n",
       "       1.00549e+02, 9.36980e+01, 9.69630e+01, 2.70100e+00, 9.71730e+01,\n",
       "       1.00429e+02, 9.65920e+01, 3.15300e+01, 0.00000e+00, 9.26100e+01,\n",
       "       9.15010e+01, 5.55400e+00, 3.06300e+00, 6.96990e+01, 9.93570e+01,\n",
       "       4.52500e+00, 0.00000e+00, 9.67250e+01, 8.96130e+01, 3.82600e+00,\n",
       "       2.08500e+00, 1.36570e+01, 8.97890e+01, 6.56050e+01, 4.24300e+00,\n",
       "       1.04977e+02, 9.74270e+01, 3.37300e+00, 7.84990e+01, 7.77250e+01,\n",
       "       5.97350e+01, 1.02620e+01, 9.88550e+01, 9.95370e+01, 0.00000e+00,\n",
       "       6.55960e+01, 9.42700e+01, 9.48500e+01, 1.01270e+02, 7.89870e+01,\n",
       "       1.20800e+00, 3.35890e+01, 6.75120e+01, 4.18700e+00, 1.05992e+02,\n",
       "       0.00000e+00, 9.87900e+01, 7.54660e+01, 1.32000e-01, 4.77870e+01,\n",
       "       9.40710e+01, 2.49420e+01, 2.42930e+01, 3.72940e+01, 8.77410e+01,\n",
       "       1.02440e+02, 0.00000e+00, 9.39310e+01, 5.40790e+01, 3.46930e+01,\n",
       "       1.00428e+02, 8.90780e+01, 2.00500e+00, 2.64270e+01, 1.12362e+02,\n",
       "       8.61600e+00, 4.47450e+01, 1.03700e+02, 8.47100e+00, 0.00000e+00,\n",
       "       8.21470e+01, 9.90290e+01, 9.56220e+01, 0.00000e+00, 1.00142e+02,\n",
       "       9.26550e+01, 9.55930e+01, 1.47880e+01, 0.00000e+00, 1.66970e+01,\n",
       "       3.12140e+01, 1.00889e+02, 3.20000e+00, 8.03900e+01, 8.79860e+01,\n",
       "       3.81840e+01, 9.04350e+01, 4.72820e+01, 1.31420e+01, 9.18080e+01,\n",
       "       4.44300e+00, 9.92420e+01, 1.82600e+00, 8.72300e+01, 8.55330e+01])"
      ]
     },
     "execution_count": 78,
     "metadata": {},
     "output_type": "execute_result"
    }
   ],
   "source": [
    "y = df['power']\n",
    "y = np.array(y)\n",
    "y = rng.permutation(y)\n",
    "y"
   ]
  },
  {
   "cell_type": "code",
   "execution_count": 7,
   "metadata": {},
   "outputs": [
    {
     "data": {
      "text/plain": [
       "[<matplotlib.lines.Line2D at 0x1e7e469c148>]"
      ]
     },
     "execution_count": 7,
     "metadata": {},
     "output_type": "execute_result"
    },
    {
     "data": {
      "image/png": "[encoded data removed]",
      "text/plain": [
       "<Figure size 432x288 with 1 Axes>"
      ]
     },
     "metadata": {
      "needs_background": "light"
     },
     "output_type": "display_data"
    }
   ],
   "source": [
    "plt.plot(x, y, '.', label = \"Data\")"
   ]
  },
  {
   "cell_type": "code",
   "execution_count": 8,
   "metadata": {},
   "outputs": [
    {
     "data": {
      "text/plain": [
       "array([  4.91759567, -13.89990263])"
      ]
     },
     "execution_count": 8,
     "metadata": {},
     "output_type": "execute_result"
    }
   ],
   "source": [
    "coeffs = np.polyfit(x, y, 1)\n",
    "coeffs"
   ]
  },
  {
   "cell_type": "code",
   "execution_count": 10,
   "metadata": {},
   "outputs": [
    {
     "data": {
      "image/png": "[encoded data removed]",
      "text/plain": [
       "<Figure size 432x288 with 1 Axes>"
      ]
     },
     "metadata": {
      "needs_background": "light"
     },
     "output_type": "display_data"
    }
   ],
   "source": [
    "plt.plot(x, y, '.', label = \"Data\")\n",
    "plt.plot(x, coeffs[0] * x + coeffs[1], '-', label = \"Best Fit\")\n",
    "plt.legend()\n",
    "plt.show()"
   ]
  },
  {
   "cell_type": "code",
   "execution_count": 11,
   "metadata": {},
   "outputs": [
    {
     "data": {
      "text/plain": [
       "59.86403235055045"
      ]
     },
     "execution_count": 11,
     "metadata": {},
     "output_type": "execute_result"
    }
   ],
   "source": [
    "pred1 = coeffs[0] * 15 + coeffs[1]\n",
    "pred1"
   ]
  },
  {
   "cell_type": "markdown",
   "metadata": {},
   "source": [
    "The coefficients can be used to calculate an estimate for power output for a given wind speed value (x). "
   ]
  },
  {
   "cell_type": "code",
   "execution_count": null,
   "metadata": {},
   "outputs": [],
   "source": []
  },
  {
   "cell_type": "code",
   "execution_count": 21,
   "metadata": {},
   "outputs": [],
   "source": [
    "from sklearn.model_selection import train_test_split"
   ]
  },
  {
   "cell_type": "code",
   "execution_count": 79,
   "metadata": {},
   "outputs": [],
   "source": [
    "x_train, x_test, y_train, y_test = train_test_split(x, y)"
   ]
  },
  {
   "cell_type": "code",
   "execution_count": 38,
   "metadata": {},
   "outputs": [],
   "source": [
    "from sklearn.linear_model import LinearRegression\n",
    "from sklearn.metrics import mean_squared_error, r2_score"
   ]
  },
  {
   "cell_type": "code",
   "execution_count": 24,
   "metadata": {},
   "outputs": [],
   "source": [
    "linreg = LinearRegression()"
   ]
  },
  {
   "cell_type": "code",
   "execution_count": 84,
   "metadata": {},
   "outputs": [],
   "source": [
    "x_train = x_train.reshape(-1, 1)"
   ]
  },
  {
   "cell_type": "code",
   "execution_count": 91,
   "metadata": {},
   "outputs": [],
   "source": [
    "x_test = x_test.reshape(-1, 1)"
   ]
  },
  {
   "cell_type": "code",
   "execution_count": 85,
   "metadata": {},
   "outputs": [],
   "source": [
    "y_train = y_train.reshape(-1, 1)"
   ]
  },
  {
   "cell_type": "code",
   "execution_count": 86,
   "metadata": {},
   "outputs": [
    {
     "data": {
      "text/plain": [
       "((500,), (500,))"
      ]
     },
     "execution_count": 86,
     "metadata": {},
     "output_type": "execute_result"
    }
   ],
   "source": [
    "x.shape, y.shape"
   ]
  },
  {
   "cell_type": "code",
   "execution_count": 87,
   "metadata": {},
   "outputs": [
    {
     "data": {
      "text/plain": [
       "LinearRegression(copy_X=True, fit_intercept=True, n_jobs=None, normalize=False)"
      ]
     },
     "execution_count": 87,
     "metadata": {},
     "output_type": "execute_result"
    }
   ],
   "source": [
    "linreg.fit(x_train, y_train)"
   ]
  },
  {
   "cell_type": "code",
   "execution_count": 89,
   "metadata": {},
   "outputs": [
    {
     "name": "stdout",
     "output_type": "stream",
     "text": [
      "[43.13134209]\n",
      "[[0.3605025]]\n"
     ]
    },
    {
     "data": {
      "text/plain": [
       "<zip at 0x1e7e70ef4c8>"
      ]
     },
     "execution_count": 89,
     "metadata": {},
     "output_type": "execute_result"
    }
   ],
   "source": [
    "print(linreg.intercept_)\n",
    "print(linreg.coef_)\n",
    "zip('speed', linreg.coef_)"
   ]
  },
  {
   "cell_type": "code",
   "execution_count": 92,
   "metadata": {},
   "outputs": [],
   "source": [
    "y_pred = linreg.predict(x_test)"
   ]
  },
  {
   "cell_type": "code",
   "execution_count": 94,
   "metadata": {},
   "outputs": [],
   "source": [
    "from sklearn import metrics"
   ]
  },
  {
   "cell_type": "code",
   "execution_count": 95,
   "metadata": {},
   "outputs": [
    {
     "name": "stdout",
     "output_type": "stream",
     "text": [
      "40.0456311361623\n"
     ]
    }
   ],
   "source": [
    "print(metrics.mean_absolute_error(y_test, y_pred))"
   ]
  },
  {
   "cell_type": "code",
   "execution_count": 96,
   "metadata": {},
   "outputs": [
    {
     "ename": "NameError",
     "evalue": "name 'y_true' is not defined",
     "output_type": "error",
     "traceback": [
      "\u001b[1;31m---------------------------------------------------------------------------\u001b[0m",
      "\u001b[1;31mNameError\u001b[0m                                 Traceback (most recent call last)",
      "\u001b[1;32m<ipython-input-96-ce438e092fa0>\u001b[0m in \u001b[0;36m<module>\u001b[1;34m\u001b[0m\n\u001b[1;32m----> 1\u001b[1;33m \u001b[0mprint\u001b[0m\u001b[1;33m(\u001b[0m\u001b[0mmetrics\u001b[0m\u001b[1;33m.\u001b[0m\u001b[0mmean_squared_error\u001b[0m\u001b[1;33m(\u001b[0m\u001b[0my_true\u001b[0m\u001b[1;33m,\u001b[0m \u001b[0my_pred\u001b[0m\u001b[1;33m)\u001b[0m\u001b[1;33m)\u001b[0m\u001b[1;33m\u001b[0m\u001b[1;33m\u001b[0m\u001b[0m\n\u001b[0m",
      "\u001b[1;31mNameError\u001b[0m: name 'y_true' is not defined"
     ]
    }
   ],
   "source": [
    "print(metrics.mean_squared_error(y_true, y_pred))"
   ]
  },
  {
   "cell_type": "code",
   "execution_count": null,
   "metadata": {},
   "outputs": [],
   "source": []
  },
  {
   "cell_type": "code",
   "execution_count": null,
   "metadata": {},
   "outputs": [],
   "source": []
  },
  {
   "cell_type": "code",
   "execution_count": null,
   "metadata": {},
   "outputs": [],
   "source": []
  },
  {
   "cell_type": "code",
   "execution_count": null,
   "metadata": {},
   "outputs": [],
   "source": []
  },
  {
   "cell_type": "markdown",
   "metadata": {},
   "source": [
    "### References\n",
    "[1]. Linear Regression, https://en.wikipedia.org/wiki/Linear_regression\n",
    "\n",
    "[2]. Correlation and Regression, https://www.bmj.com/about-bmj/resources-readers/publications/statistics-square-one/11-correlation-and-regression\n",
    "\n"
   ]
  },
  {
   "cell_type": "code",
   "execution_count": null,
   "metadata": {},
   "outputs": [],
   "source": []
  }
 ],
 "metadata": {
  "kernelspec": {
   "display_name": "Python 3",
   "language": "python",
   "name": "python3"
  },
  "language_info": {
   "codemirror_mode": {
    "name": "ipython",
    "version": 3
   },
   "file_extension": ".py",
   "mimetype": "text/x-python",
   "name": "python",
   "nbconvert_exporter": "python",
   "pygments_lexer": "ipython3",
   "version": "3.7.4"
  }
 },
 "nbformat": 4,
 "nbformat_minor": 2
}
